{
 "cells": [
  {
   "cell_type": "markdown",
   "metadata": {
    "id": "cnlisHjUUtlM"
   },
   "source": [
    "# Transfer Learning"
   ]
  },
  {
   "cell_type": "code",
   "execution_count": 17,
   "metadata": {},
   "outputs": [
    {
     "ename": "Exception",
     "evalue": "You should enagle GPU in the Runtime menu",
     "output_type": "error",
     "traceback": [
      "\u001b[0;31m---------------------------------------------------------------------------\u001b[0m",
      "\u001b[0;31mException\u001b[0m                                 Traceback (most recent call last)",
      "\u001b[0;32m/tmp/ipykernel_12747/542537163.py\u001b[0m in \u001b[0;36m<module>\u001b[0;34m\u001b[0m\n\u001b[1;32m     11\u001b[0m \u001b[0;34m\u001b[0m\u001b[0m\n\u001b[1;32m     12\u001b[0m \u001b[0;32mif\u001b[0m \u001b[0;32mnot\u001b[0m \u001b[0mtorch\u001b[0m\u001b[0;34m.\u001b[0m\u001b[0mcuda\u001b[0m\u001b[0;34m.\u001b[0m\u001b[0mis_available\u001b[0m\u001b[0;34m(\u001b[0m\u001b[0;34m)\u001b[0m\u001b[0;34m:\u001b[0m\u001b[0;34m\u001b[0m\u001b[0;34m\u001b[0m\u001b[0m\n\u001b[0;32m---> 13\u001b[0;31m     \u001b[0;32mraise\u001b[0m \u001b[0mException\u001b[0m\u001b[0;34m(\u001b[0m\u001b[0;34m\"You should enagle GPU in the Runtime menu\"\u001b[0m\u001b[0;34m)\u001b[0m\u001b[0;34m\u001b[0m\u001b[0;34m\u001b[0m\u001b[0m\n\u001b[0m\u001b[1;32m     14\u001b[0m \u001b[0mdevice\u001b[0m \u001b[0;34m=\u001b[0m \u001b[0mtorch\u001b[0m\u001b[0;34m.\u001b[0m\u001b[0mdevice\u001b[0m\u001b[0;34m(\u001b[0m\u001b[0;34m\"cuda\"\u001b[0m\u001b[0;34m)\u001b[0m\u001b[0;34m\u001b[0m\u001b[0;34m\u001b[0m\u001b[0m\n",
      "\u001b[0;31mException\u001b[0m: You should enagle GPU in the Runtime menu"
     ]
    }
   ],
   "source": [
    "import torch\n",
    "import torch.nn as nn\n",
    "import torch.nn.functional as F\n",
    "import torch.optim as optim\n",
    "import numpy as np\n",
    "import torchvision.transforms as transforms\n",
    "from torchvision.datasets import ImageFolder\n",
    "from torch.utils.data import DataLoader\n",
    "from tqdm.notebook import tqdm\n",
    "import matplotlib.pyplot as plt\n",
    "\n",
    "if not torch.cuda.is_available():\n",
    "    raise Exception(\"You should enagle GPU in the Runtime menu\")\n",
    "device = torch.device(\"cuda\")"
   ]
  },
  {
   "cell_type": "code",
   "execution_count": 18,
   "metadata": {
    "id": "6M1qA1rDEO5i"
   },
   "outputs": [],
   "source": [
    "# import data for learning\n",
    "train_dir = 'data/training_set'\n",
    "validation_dir = 'data/test_set'\n",
    "\n",
    "transform = transforms.Compose([\n",
    "    transforms.Resize(150), \n",
    "    transforms.CenterCrop(150), \n",
    "    transforms.ToTensor(), \n",
    "])\n",
    "batch_size = 32\n",
    "\n",
    "train_dataset = ImageFolder(train_dir, transform=transform)\n",
    "train_loader = DataLoader(train_dataset, batch_size=batch_size, shuffle=True)\n",
    "val_dataset = ImageFolder(validation_dir, transform=transform)\n",
    "val_loader = DataLoader(val_dataset, batch_size=batch_size, shuffle=False)"
   ]
  },
  {
   "cell_type": "code",
   "execution_count": 19,
   "metadata": {
    "colab": {
     "base_uri": "https://localhost:8080/"
    },
    "id": "sXeaBDfKEO5j",
    "outputId": "c6b29744-ec6a-4f9b-ca33-76df396b2eb6"
   },
   "outputs": [],
   "source": [
    "model = nn.Sequential(\n",
    "        nn.Conv2d(3, 64, 3), nn.ReLU(), nn.MaxPool2d(2),\n",
    "        nn.Conv2d(64, 128, 3), nn.ReLU(), nn.MaxPool2d(2),\n",
    "        nn.Conv2d(128, 256, 3), nn.ReLU(), nn.MaxPool2d(2),\n",
    "        nn.Conv2d(256, 256, 3), nn.ReLU(), nn.MaxPool2d(2),\n",
    "        nn.Flatten(),\n",
    "        nn.Linear(7*7*256, 512), nn.ReLU(),\n",
    "        nn.Linear(512, 10), # ja que fem servir la sigmoid \n",
    "        nn.LogSoftmax()\n",
    "    )"
   ]
  },
  {
   "cell_type": "markdown",
   "metadata": {
    "id": "rX4J6Din4dtv"
   },
   "source": [
    "For the optimizer, we will use Adam. Since we are dealing with binary classification, we will use binary cross entropy as our loss function."
   ]
  },
  {
   "cell_type": "code",
   "execution_count": 20,
   "metadata": {
    "id": "HUFBrERnEO5k"
   },
   "outputs": [],
   "source": [
    "optimizer = optim.Adam(model.parameters(), lr = 0.001)\n",
    "loss_fn = nn.BCELoss()"
   ]
  },
  {
   "cell_type": "code",
   "execution_count": 21,
   "metadata": {
    "id": "_6JMUhDSEO5m"
   },
   "outputs": [],
   "source": [
    "class AverageMeter(object):\n",
    "    \"\"\"Computes and stores the average and current value\"\"\"\n",
    "    def __init__(self):\n",
    "        self.reset()\n",
    "\n",
    "    def reset(self):\n",
    "        self.val = 0\n",
    "        self.avg = 0\n",
    "        self.sum = 0\n",
    "        self.count = 0\n",
    "\n",
    "    def update(self, val, n=1):\n",
    "        self.val = val\n",
    "        self.sum += val * n\n",
    "        self.count += n\n",
    "        self.avg = self.sum / self.count\n",
    "\n",
    "\n",
    "def train_model(model, optimizer, loss_fn, train_loader, val_loader, epochs):\n",
    "\n",
    "    train_accuracies, train_losses, val_accuracies, val_losses = [], [], [], []\n",
    "    val_loss = AverageMeter()\n",
    "    val_accuracy = AverageMeter()\n",
    "    train_loss = AverageMeter()\n",
    "    train_accuracy = AverageMeter()\n",
    "\n",
    "    for epoch in range(epochs):\n",
    "        # train\n",
    "        model.train()\n",
    "        train_loss.reset()\n",
    "        train_accuracy.reset()\n",
    "        train_loop = tqdm(train_loader, unit=\" batches\")  # For printing the progress bar\n",
    "        for data, target in train_loop:\n",
    "            train_loop.set_description('[TRAIN] Epoch {}/{}'.format(epoch + 1, epochs))\n",
    "            data, target = data.float().to(device), target.float().to(device)\n",
    "            target = target.unsqueeze(-1)\n",
    "            optimizer.zero_grad()\n",
    "            output = model(data)\n",
    "            loss = loss_fn(output, target)\n",
    "            loss.backward()\n",
    "            optimizer.step()\n",
    "\n",
    "            train_loss.update(loss.item(), n=len(target))\n",
    "            pred = output.round()  # get the prediction\n",
    "            acc = pred.eq(target.view_as(pred)).sum().item()/len(target)\n",
    "            train_accuracy.update(acc, n=len(target))\n",
    "            train_loop.set_postfix(loss=train_loss.avg, accuracy=train_accuracy.avg)\n",
    "\n",
    "        train_losses.append(train_loss.avg)\n",
    "        train_accuracies.append(train_accuracy.avg)\n",
    "\n",
    "        # validation\n",
    "        model.eval()\n",
    "        val_loss.reset()\n",
    "        val_accuracy.reset()\n",
    "        val_loop = tqdm(val_loader, unit=\" batches\")  # For printing the progress bar\n",
    "        with torch.no_grad():\n",
    "            for data, target in val_loop:\n",
    "                val_loop.set_description('[VAL] Epoch {}/{}'.format(epoch + 1, epochs))\n",
    "                data, target = data.float().to(device), target.float().to(device)\n",
    "                target = target.unsqueeze(-1)\n",
    "                output = model(data)\n",
    "                loss = loss_fn(output, target)\n",
    "                val_loss.update(loss.item(), n=len(target))\n",
    "                pred = output.round()  # get the prediction\n",
    "                acc = pred.eq(target.view_as(pred)).sum().item()/len(target)\n",
    "                val_accuracy.update(acc, n=len(target))\n",
    "                val_loop.set_postfix(loss=val_loss.avg, accuracy=val_accuracy.avg)\n",
    "\n",
    "        val_losses.append(val_loss.avg)\n",
    "        val_accuracies.append(val_accuracy.avg)\n",
    "        \n",
    "    return train_accuracies, train_losses, val_accuracies, val_losses"
   ]
  },
  {
   "cell_type": "code",
   "execution_count": 22,
   "metadata": {
    "id": "Kp0tGSADEO5m"
   },
   "outputs": [
    {
     "data": {
      "application/vnd.jupyter.widget-view+json": {
       "model_id": "6f6b18bd32a343b68efb10261ecb846c",
       "version_major": 2,
       "version_minor": 0
      },
      "text/plain": [
       "  0%|          | 0/29 [00:00<?, ? batches/s]"
      ]
     },
     "metadata": {},
     "output_type": "display_data"
    },
    {
     "ename": "NameError",
     "evalue": "name 'device' is not defined",
     "output_type": "error",
     "traceback": [
      "\u001b[0;31m---------------------------------------------------------------------------\u001b[0m",
      "\u001b[0;31mNameError\u001b[0m                                 Traceback (most recent call last)",
      "\u001b[0;32m/tmp/ipykernel_12747/1820842990.py\u001b[0m in \u001b[0;36m<module>\u001b[0;34m\u001b[0m\n\u001b[1;32m      1\u001b[0m \u001b[0mepochs\u001b[0m \u001b[0;34m=\u001b[0m \u001b[0;36m60\u001b[0m\u001b[0;34m\u001b[0m\u001b[0;34m\u001b[0m\u001b[0m\n\u001b[0;32m----> 2\u001b[0;31m \u001b[0mtrain_accuracies\u001b[0m\u001b[0;34m,\u001b[0m \u001b[0mtrain_losses\u001b[0m\u001b[0;34m,\u001b[0m \u001b[0mval_accuracies\u001b[0m\u001b[0;34m,\u001b[0m \u001b[0mval_losses\u001b[0m \u001b[0;34m=\u001b[0m \u001b[0mtrain_model\u001b[0m\u001b[0;34m(\u001b[0m\u001b[0mmodel\u001b[0m\u001b[0;34m,\u001b[0m \u001b[0moptimizer\u001b[0m\u001b[0;34m,\u001b[0m \u001b[0mloss_fn\u001b[0m\u001b[0;34m,\u001b[0m \u001b[0mtrain_loader\u001b[0m\u001b[0;34m,\u001b[0m \u001b[0mval_loader\u001b[0m\u001b[0;34m,\u001b[0m \u001b[0mepochs\u001b[0m\u001b[0;34m)\u001b[0m\u001b[0;34m\u001b[0m\u001b[0;34m\u001b[0m\u001b[0m\n\u001b[0m",
      "\u001b[0;32m/tmp/ipykernel_12747/2746097907.py\u001b[0m in \u001b[0;36mtrain_model\u001b[0;34m(model, optimizer, loss_fn, train_loader, val_loader, epochs)\u001b[0m\n\u001b[1;32m     33\u001b[0m         \u001b[0;32mfor\u001b[0m \u001b[0mdata\u001b[0m\u001b[0;34m,\u001b[0m \u001b[0mtarget\u001b[0m \u001b[0;32min\u001b[0m \u001b[0mtrain_loop\u001b[0m\u001b[0;34m:\u001b[0m\u001b[0;34m\u001b[0m\u001b[0;34m\u001b[0m\u001b[0m\n\u001b[1;32m     34\u001b[0m             \u001b[0mtrain_loop\u001b[0m\u001b[0;34m.\u001b[0m\u001b[0mset_description\u001b[0m\u001b[0;34m(\u001b[0m\u001b[0;34m'[TRAIN] Epoch {}/{}'\u001b[0m\u001b[0;34m.\u001b[0m\u001b[0mformat\u001b[0m\u001b[0;34m(\u001b[0m\u001b[0mepoch\u001b[0m \u001b[0;34m+\u001b[0m \u001b[0;36m1\u001b[0m\u001b[0;34m,\u001b[0m \u001b[0mepochs\u001b[0m\u001b[0;34m)\u001b[0m\u001b[0;34m)\u001b[0m\u001b[0;34m\u001b[0m\u001b[0;34m\u001b[0m\u001b[0m\n\u001b[0;32m---> 35\u001b[0;31m             \u001b[0mdata\u001b[0m\u001b[0;34m,\u001b[0m \u001b[0mtarget\u001b[0m \u001b[0;34m=\u001b[0m \u001b[0mdata\u001b[0m\u001b[0;34m.\u001b[0m\u001b[0mfloat\u001b[0m\u001b[0;34m(\u001b[0m\u001b[0;34m)\u001b[0m\u001b[0;34m.\u001b[0m\u001b[0mto\u001b[0m\u001b[0;34m(\u001b[0m\u001b[0mdevice\u001b[0m\u001b[0;34m)\u001b[0m\u001b[0;34m,\u001b[0m \u001b[0mtarget\u001b[0m\u001b[0;34m.\u001b[0m\u001b[0mfloat\u001b[0m\u001b[0;34m(\u001b[0m\u001b[0;34m)\u001b[0m\u001b[0;34m.\u001b[0m\u001b[0mto\u001b[0m\u001b[0;34m(\u001b[0m\u001b[0mdevice\u001b[0m\u001b[0;34m)\u001b[0m\u001b[0;34m\u001b[0m\u001b[0;34m\u001b[0m\u001b[0m\n\u001b[0m\u001b[1;32m     36\u001b[0m             \u001b[0mtarget\u001b[0m \u001b[0;34m=\u001b[0m \u001b[0mtarget\u001b[0m\u001b[0;34m.\u001b[0m\u001b[0munsqueeze\u001b[0m\u001b[0;34m(\u001b[0m\u001b[0;34m-\u001b[0m\u001b[0;36m1\u001b[0m\u001b[0;34m)\u001b[0m\u001b[0;34m\u001b[0m\u001b[0;34m\u001b[0m\u001b[0m\n\u001b[1;32m     37\u001b[0m             \u001b[0moptimizer\u001b[0m\u001b[0;34m.\u001b[0m\u001b[0mzero_grad\u001b[0m\u001b[0;34m(\u001b[0m\u001b[0;34m)\u001b[0m\u001b[0;34m\u001b[0m\u001b[0;34m\u001b[0m\u001b[0m\n",
      "\u001b[0;31mNameError\u001b[0m: name 'device' is not defined"
     ]
    }
   ],
   "source": [
    "epochs = 60\n",
    "train_accuracies, train_losses, val_accuracies, val_losses = train_model(model, optimizer, loss_fn, train_loader, val_loader, epochs)"
   ]
  },
  {
   "cell_type": "markdown",
   "metadata": {
    "id": "_nX57HF0gmM8"
   },
   "source": [
    "Let's plot the loss and accuracy of the model over the training and validation data during training:"
   ]
  },
  {
   "cell_type": "code",
   "execution_count": 13,
   "metadata": {
    "colab": {
     "base_uri": "https://localhost:8080/",
     "height": 249
    },
    "id": "UnRofRmBEO5n",
    "outputId": "7da141cc-2fb3-4d22-96c4-8b94cd1dcd2d"
   },
   "outputs": [
    {
     "ename": "NameError",
     "evalue": "ignored",
     "output_type": "error",
     "traceback": [
      "\u001b[0;31m---------------------------------------------------------------------------\u001b[0m",
      "\u001b[0;31mNameError\u001b[0m                                 Traceback (most recent call last)",
      "\u001b[0;32m<ipython-input-13-37e253869130>\u001b[0m in \u001b[0;36m<module>\u001b[0;34m()\u001b[0m\n\u001b[0;32m----> 1\u001b[0;31m \u001b[0mepochs\u001b[0m \u001b[0;34m=\u001b[0m \u001b[0mrange\u001b[0m\u001b[0;34m(\u001b[0m\u001b[0mlen\u001b[0m\u001b[0;34m(\u001b[0m\u001b[0mtrain_accuracies\u001b[0m\u001b[0;34m)\u001b[0m\u001b[0;34m)\u001b[0m\u001b[0;34m\u001b[0m\u001b[0;34m\u001b[0m\u001b[0m\n\u001b[0m\u001b[1;32m      2\u001b[0m \u001b[0;34m\u001b[0m\u001b[0m\n\u001b[1;32m      3\u001b[0m \u001b[0mplt\u001b[0m\u001b[0;34m.\u001b[0m\u001b[0mplot\u001b[0m\u001b[0;34m(\u001b[0m\u001b[0mepochs\u001b[0m\u001b[0;34m,\u001b[0m \u001b[0mtrain_accuracies\u001b[0m\u001b[0;34m,\u001b[0m \u001b[0;34m'b'\u001b[0m\u001b[0;34m,\u001b[0m \u001b[0mlabel\u001b[0m\u001b[0;34m=\u001b[0m\u001b[0;34m'Training acc'\u001b[0m\u001b[0;34m)\u001b[0m\u001b[0;34m\u001b[0m\u001b[0;34m\u001b[0m\u001b[0m\n\u001b[1;32m      4\u001b[0m \u001b[0mplt\u001b[0m\u001b[0;34m.\u001b[0m\u001b[0mplot\u001b[0m\u001b[0;34m(\u001b[0m\u001b[0mepochs\u001b[0m\u001b[0;34m,\u001b[0m \u001b[0mval_accuracies\u001b[0m\u001b[0;34m,\u001b[0m \u001b[0;34m'r'\u001b[0m\u001b[0;34m,\u001b[0m \u001b[0mlabel\u001b[0m\u001b[0;34m=\u001b[0m\u001b[0;34m'Validation acc'\u001b[0m\u001b[0;34m)\u001b[0m\u001b[0;34m\u001b[0m\u001b[0;34m\u001b[0m\u001b[0m\n\u001b[1;32m      5\u001b[0m \u001b[0mplt\u001b[0m\u001b[0;34m.\u001b[0m\u001b[0mtitle\u001b[0m\u001b[0;34m(\u001b[0m\u001b[0;34m'Training and validation accuracy'\u001b[0m\u001b[0;34m)\u001b[0m\u001b[0;34m\u001b[0m\u001b[0;34m\u001b[0m\u001b[0m\n",
      "\u001b[0;31mNameError\u001b[0m: name 'train_accuracies' is not defined"
     ]
    }
   ],
   "source": [
    "epochs = range(len(train_accuracies))\n",
    "\n",
    "plt.plot(epochs, train_accuracies, 'b', label='Training acc')\n",
    "plt.plot(epochs, val_accuracies, 'r', label='Validation acc')\n",
    "plt.title('Training and validation accuracy')\n",
    "plt.legend()\n",
    "\n",
    "plt.figure()\n",
    "\n",
    "plt.plot(epochs, train_losses, 'b', label='Training loss')\n",
    "plt.plot(epochs, val_losses, 'r', label='Validation loss')\n",
    "plt.title('Training and validation loss')\n",
    "plt.legend()\n",
    "\n",
    "plt.show()"
   ]
  },
  {
   "cell_type": "markdown",
   "metadata": {
    "id": "EjQltbgE4dvQ"
   },
   "source": [
    "These plots are characteristic of overfitting. Our training accuracy increases linearly over time, until it reaches nearly 100%, while our \n",
    "validation accuracy stalls at about 60%. Our validation loss reaches its minimum after only five epochs then stalls, while the training loss \n",
    "keeps decreasing linearly until it reaches nearly 0.\n",
    "\n",
    "Because we only have very few training samples (400), overfitting is going to be our number one concern. You already know about a \n",
    "number of techniques that can help mitigate overfitting, such as dropout and weight decay (L2 regularization). We are now going to \n",
    "introduce a new one, specific to computer vision, and used almost universally when processing images with deep learning models: *data \n",
    "augmentation*."
   ]
  },
  {
   "cell_type": "markdown",
   "metadata": {
    "id": "1NSgzqgj4dvR"
   },
   "source": [
    "## 1.  Using data augmentation\n",
    "\n",
    "Overfitting is caused by having too few samples to learn from, rendering us unable to train a model able to generalize to new data. \n",
    "Given infinite data, our model would be exposed to every possible aspect of the data distribution at hand: we would never overfit. Data \n",
    "augmentation takes the approach of generating more training data from existing training samples, by \"augmenting\" the samples via a number \n",
    "of random transformations that yield believable-looking images. The goal is that at training time, our model would never see the exact same \n",
    "picture twice. This helps the model get exposed to more aspects of the data and generalize better.\n",
    "\n",
    "In PyTorch, this can be done by passaing TorchVision transformations to the Dataset. Let's get started with an example:"
   ]
  },
  {
   "cell_type": "code",
   "execution_count": null,
   "metadata": {
    "id": "2JGmVn7OEO5o"
   },
   "outputs": [],
   "source": [
    "train_transform = transforms.Compose([transforms.RandomHorizontalFlip(), transforms.RandomRotation(10), transforms.RandomResizedCrop(150), transforms.ToTensor()])\n",
    "val_transform = transforms.Compose([transforms.Resize(150), transforms.CenterCrop(150), transforms.ToTensor()])\n",
    "\n",
    "batch_size = 64\n",
    "augmented_dataset = ImageFolder(train_dir, transform=train_transform)\n",
    "augmented_loader = DataLoader(augmented_dataset, batch_size=batch_size, shuffle=True)\n",
    "val_dataset = ImageFolder(validation_dir, transform=val_transform)\n",
    "val_loader = DataLoader(val_dataset, batch_size=batch_size, shuffle=False)"
   ]
  },
  {
   "cell_type": "markdown",
   "metadata": {
    "id": "PbaKS38t4dvV"
   },
   "source": [
    "These are just a few of the options available (for more, see in the [documentation](https://pytorch.org/docs/stable/torchvision/transforms.html)). Let's quickly go over what we just wrote:\n",
    "\n",
    "* `RandomRotation` is a value in degrees (0-180), a range within which to randomly rotate pictures.\n",
    "* `RandomHorizontalFlip` is for randomly flipping half of the images horizontally -- relevant when there are no assumptions of horizontal \n",
    "asymmetry (e.g. real-world pictures).\n",
    "* `RandomResizedCrop` randomly resize the image and returns a random crop with a small aspect ratio distorsion. Very popular transformation for training imagenet.\n",
    "\n",
    "Let's take a look at our augmented images:"
   ]
  },
  {
   "cell_type": "code",
   "execution_count": null,
   "metadata": {
    "id": "R9Awg3SEEO5o"
   },
   "outputs": [],
   "source": [
    "random_indices = [0, 42, 200, 242]\n",
    "augmented_images = [augmented_dataset[i][0] for i in random_indices]\n",
    "augmented_images = [np.asarray(transforms.functional.to_pil_image(im)) for im in augmented_images]\n",
    "\n",
    "images = [train_dataset[i][0] for i in random_indices]\n",
    "images = [np.asarray(transforms.functional.to_pil_image(im)) for im in images]\n",
    "\n",
    "fig, axes = plt.subplots(len(random_indices), 2, figsize=(15, 15))\n",
    "for i in range(len(random_indices)):\n",
    "    axes[i, 0].imshow(images[i])\n",
    "    axes[i, 1].imshow(augmented_images[i])"
   ]
  },
  {
   "cell_type": "markdown",
   "metadata": {
    "id": "qRNS0KLFrGxV"
   },
   "source": [
    "### Dropout regularization"
   ]
  },
  {
   "cell_type": "markdown",
   "metadata": {
    "id": "US13lC9m4dvl"
   },
   "source": [
    "If we train a new network using this data augmentation configuration, our network will never see twice the same input. However, the inputs \n",
    "that it sees are still heavily intercorrelated, since they come from a small number of original images -- we cannot produce new information, \n",
    "we can only remix existing information. As such, this might not be quite enough to completely get rid of overfitting. \n",
    "\n",
    "\n",
    "**Exercise 1:** To further fight  overfitting, add a [Dropout](https://pytorch.org/docs/stable/nn.html?highlight=dropout#torch.nn.Dropout) layer with probability 0.5 between the convolutional and fully connected layers."
   ]
  },
  {
   "cell_type": "code",
   "execution_count": null,
   "metadata": {
    "id": "ZwJybroFEO5p"
   },
   "outputs": [],
   "source": [
    "# TODO\n",
    "model = nn.Sequential(\n",
    "        nn.Conv2d(3, 64, 3), nn.ReLU(), nn.MaxPool2d(2), \n",
    "        nn.Conv2d(64, 128, 3), nn.ReLU(), nn.MaxPool2d(2), \n",
    "        nn.Conv2d(128, 256, 3), nn.ReLU(), nn.MaxPool2d(2), \n",
    "        nn.Conv2d(256, 256, 3), nn.ReLU(), nn.MaxPool2d(2), \n",
    "        nn.Flatten(),\n",
    "        nn.Dropout(0.5),\n",
    "        nn.Linear(7*7*256, 512), nn.ReLU(),\n",
    "        nn.Linear(512, 1), \n",
    "        nn.Sigmoid()\n",
    "    )\n",
    "\n",
    "model.to(device)"
   ]
  },
  {
   "cell_type": "code",
   "execution_count": null,
   "metadata": {
    "id": "5yDMGsEdEO5p"
   },
   "outputs": [],
   "source": [
    "optimizer = optim.Adam(model.parameters(), lr=0.001)\n",
    "loss_fn = nn.BCELoss() "
   ]
  },
  {
   "cell_type": "markdown",
   "metadata": {
    "id": "3VgtrZzr4dvq"
   },
   "source": [
    "Let's train our network using data augmentation and dropout:"
   ]
  },
  {
   "cell_type": "code",
   "execution_count": null,
   "metadata": {
    "id": "WzrIn97-EO5p"
   },
   "outputs": [],
   "source": [
    "epochs = 60\n",
    "#train_accuracies, train_losses, val_accuracies, val_losses = train_model(model, optimizer, loss_fn, augmented_loader, val_loader, epochs)\n"
   ]
  },
  {
   "cell_type": "markdown",
   "metadata": {
    "id": "vztCCMN54dv9"
   },
   "source": [
    "Let's save a checkpoint of our model for future references."
   ]
  },
  {
   "cell_type": "code",
   "execution_count": null,
   "metadata": {
    "id": "IZ7WhCCNEO5p"
   },
   "outputs": [],
   "source": [
    "torch.save(model.state_dict(), 'cats_and_dogs_small_2_class.pt')\n",
    "np.savez('history_cats_and_dogs_small_2_class.npz', train_accuracies=train_accuracies, train_losses=train_losses, val_accuracies=val_accuracies, val_losses=val_losses)"
   ]
  },
  {
   "cell_type": "markdown",
   "metadata": {
    "id": "q1yZBQUILFM1"
   },
   "source": [
    "Plot the curves with the following lines:"
   ]
  },
  {
   "cell_type": "code",
   "execution_count": null,
   "metadata": {
    "id": "wP_ifCbMEO5q"
   },
   "outputs": [],
   "source": [
    "epochs = range(len(train_accuracies))\n",
    "\n",
    "plt.plot(epochs, train_accuracies, 'b', label='Training acc')\n",
    "plt.plot(epochs, val_accuracies, 'r', label='Validation acc')\n",
    "plt.title('Training and validation accuracy')\n",
    "plt.legend()\n",
    "\n",
    "plt.figure()\n",
    "\n",
    "plt.plot(epochs, train_losses, 'b', label='Training loss')\n",
    "plt.plot(epochs, val_losses, 'r', label='Validation loss')\n",
    "plt.title('Training and validation loss')\n",
    "plt.legend()\n",
    "\n",
    "plt.show()"
   ]
  },
  {
   "cell_type": "markdown",
   "metadata": {
    "id": "U01tymX_4dwK"
   },
   "source": [
    "Thanks to data augmentation and dropout, we are no longer overfitting: the training curves are rather closely tracking the validation \n",
    "curves. We are now able to reach an accuracy of about 66%.\n",
    "\n",
    "By leveraging regularization techniques even further and by tuning the network's parameters (such as the number of filters per convolution \n",
    "layer, or the number of layers in the network), we may be able to get an even better accuracy, likely up to 70%. However, it would prove \n",
    "very difficult to go any higher just by training our own convnet from scratch, simply because we have so little data to work with. As a \n",
    "next step to improve our accuracy on this problem, we will have to leverage a pre-trained model, which will be the focus of the next two \n",
    "sections."
   ]
  },
  {
   "cell_type": "markdown",
   "metadata": {
    "id": "Qh0ffGJra2oP"
   },
   "source": [
    "# 2 Using a pre-trained convnet\n",
    "\n",
    "A common and highly effective approach to deep learning on small image datasets is to leverage a pre-trained network. A pre-trained network is simply a saved network previously trained on a large dataset, typically on a large-scale image classification task. If this original dataset is large enough and general enough, then the spatial feature hierarchy learned by the pre-trained network can effectively act as a generic model of our visual world, and hence its features can prove useful for many different computer vision problems, even though these new problems might involve completely different classes from those of the original task. For instance, one might train a network on ImageNet (where classes are mostly animals and everyday objects) and then re-purpose this trained network for something as remote as identifying furniture items in images. Such portability of learned features across different problems is a key advantage of deep learning compared to many older shallow learning approaches, and it makes deep learning very effective for small-data problems.\n",
    "\n",
    "In our case, we will consider a large convnet trained on the ImageNet dataset (1.4 million labeled images and 1000 different classes). ImageNet contains many animal classes, including different species of cats and dogs, and we can thus expect to perform very well on our cat vs. dog classification problem.\n",
    "\n",
    "We will use the VGG16 architecture, developed by Karen Simonyan and Andrew Zisserman in 2014, a simple and widely used convnet architecture for ImageNet. Although it is a bit of an older model, far from the current state of the art and somewhat heavier than many other recent models, we chose it because its architecture is similar to what you are already familiar with, and easy to understand without introducing any new concepts. \n",
    "\n",
    "There are two ways to leverage a pre-trained network: feature extraction and fine-tuning. We will cover both of them. Let's start with feature extraction. Feature extraction consists of using the representations learned by a previous network to extract interesting features from new samples. These features are then run through a new classifier, which is trained from scratch.\n",
    "\n",
    "As we saw previously, convnets used for image classification comprise two parts: they start with a series of pooling and convolution layers, and they end with a densely-connected classifier. The first part is called the \"convolutional base\" of the model. In the case of convnets, \"feature extraction\" will simply consist of taking the convolutional base of a previously-trained network, running the new data through it, and training a new classifier on top of the output.\n",
    "\n",
    "\n",
    "![settings](https://camo.githubusercontent.com/2de162f6f3587a0422389355909594413ae17742/68747470733a2f2f73332e616d617a6f6e6177732e636f6d2f626f6f6b2e6b657261732e696f2f696d672f6368352f7377617070696e675f66635f636c61737369666965722e706e67)\n",
    "\n",
    "Why only reuse the convolutional base? Could we reuse the densely-connected classifier as well? In general, it should be avoided. The reason is simply that the representations learned by the convolutional base are likely to be more generic and therefore more reusable: the feature maps of a convnet are presence maps of generic concepts over a picture, which is likely to be useful regardless of the computer vision problem at hand. On the other end, the representations learned by the classifier will necessarily be very specific to the set of classes that the model was trained on -- they will only contain information about the presence probability of this or that class in the entire picture. Additionally, representations found in densely-connected layers no longer contain any information about where objects are located in the input image: these layers get rid of the notion of space, whereas the object location is still described by convolutional feature maps. For problems where object location matters, densely-connected features would be largely useless.\n",
    "\n",
    "Note that the level of generality (and therefore reusability) of the representations extracted by specific convolution layers depends on the depth of the layer in the model. Layers that come earlier in the model extract local, highly generic feature maps (such as visual edges, colors, and textures), while layers higher-up extract more abstract concepts (such as \"cat ear\" or \"dog eye\"). So if your new dataset differs a lot from the dataset that the original model was trained on, you may be better off using only the first few layers of the model to do feature extraction, rather than using the entire convolutional base.\n",
    "\n",
    "In our case, since the ImageNet class set did contain multiple dog and cat classes, it is likely that it would be beneficial to reuse the information contained in the densely-connected layers of the original model. However, we will chose not to, in order to cover the more general case where the class set of the new problem does not overlap with the class set of the original model.\n",
    "\n",
    "Let's put this in practice by using the convolutional base of the VGG16 network, trained on ImageNet, to extract interesting features from our cat and dog images, and then training a cat vs. dog classifier on top of these features.\n",
    "\n",
    "The VGG16 model, among others, comes pre-packaged with PyTorch. You can import it from the torchvision.models module.\n"
   ]
  },
  {
   "cell_type": "code",
   "execution_count": null,
   "metadata": {
    "id": "79JTWu5cEO5q"
   },
   "outputs": [],
   "source": [
    "from torchvision.models import vgg16\n",
    "\n",
    "pretrained_model = vgg16(pretrained=True)\n",
    "pretrained_model.eval()\n",
    "pretrained_model.to(device)"
   ]
  },
  {
   "cell_type": "markdown",
   "metadata": {
    "id": "5AOoq6n6aUeo"
   },
   "source": [
    "The following line takes the first part of the model, to use it as a feature_extractor."
   ]
  },
  {
   "cell_type": "code",
   "execution_count": null,
   "metadata": {
    "id": "fEf6u0r4EO5s"
   },
   "outputs": [],
   "source": [
    "feature_extractor = pretrained_model.features\n",
    "feature_extractor"
   ]
  },
  {
   "cell_type": "markdown",
   "metadata": {
    "id": "3am0EQmKb-Es"
   },
   "source": [
    "\n",
    "\n",
    "The final feature map has shape (512, 4, 4). That's the feature on top of which we will stick a densely-connected classifier.\n",
    "\n",
    "The method we will use consists in running the convolutional base over our dataset, recording its output to a Numpy array on disk, then using this data as input to a standalone densely-connected classifier. This solution is very fast and cheap to run, because it only requires running the convolutional base once for every input image, and the convolutional base is by far the most expensive part of the pipeline. However, for the exact same reason, this technique would not allow us to leverage data augmentation at all.\n",
    "\n",
    "\n",
    "We will start by simply running instances of the previously-introduced ImageFolder Dataset to extract features from these images.\n"
   ]
  },
  {
   "cell_type": "code",
   "execution_count": null,
   "metadata": {
    "id": "rEOIaplpEO5s"
   },
   "outputs": [],
   "source": [
    "base_dir = '/content/processed_datalab'\n",
    "\n",
    "train_dir = os.path.join(base_dir, 'train')\n",
    "validation_dir = os.path.join(base_dir, 'validation')\n",
    "\n",
    "\n",
    "def extract_features(directory):\n",
    "    transform = transforms.Compose([transforms.Resize(150), transforms.CenterCrop(150), transforms.ToTensor(), transforms.Normalize(mean=[0.485, 0.456, 0.406], std=[0.229, 0.224, 0.225])])  # Normalize with Imagenet parameters\n",
    "    dataset = ImageFolder(directory, transform=transform)\n",
    "    batch_size = 100\n",
    "    loader = DataLoader(dataset, batch_size=batch_size, shuffle=False)\n",
    "    features = np.zeros(shape=(len(dataset), 512, 4, 4))\n",
    "    labels = np.zeros(shape=(len(dataset),))\n",
    "    with torch.no_grad():\n",
    "        for i, (inputs_batch, labels_batch) in enumerate(loader):\n",
    "            inputs_batch, labels_batch = inputs_batch.to(device), labels_batch.to(device)\n",
    "            features_batch = feature_extractor(inputs_batch)\n",
    "            features[i * batch_size : (i + 1) * batch_size] = features_batch.cpu().numpy()\n",
    "            labels[i * batch_size : (i + 1) * batch_size] = labels_batch.cpu().numpy()\n",
    "\n",
    "    return features, labels\n",
    "\n",
    "train_features, train_labels = extract_features(train_dir)\n",
    "validation_features, validation_labels = extract_features(validation_dir)\n"
   ]
  },
  {
   "cell_type": "markdown",
   "metadata": {
    "id": "yFCd6TO9cDPV"
   },
   "source": [
    "The extracted features are currently of shape (samples, 512, 4, 4). We will feed them to a densely-connected classifier, so first we must flatten them to (samples, 8192):"
   ]
  },
  {
   "cell_type": "code",
   "execution_count": null,
   "metadata": {
    "id": "LD9uptGYEO5t"
   },
   "outputs": [],
   "source": [
    "train_features = np.reshape(train_features, (-1, 4 * 4 * 512))\n",
    "validation_features = np.reshape(validation_features, (-1, 4 * 4 * 512))"
   ]
  },
  {
   "cell_type": "markdown",
   "metadata": {
    "id": "_eVlyjpFczgx"
   },
   "source": [
    "### Exercise 2\n",
    "At this point, we can define a neural network with a single hiden layer trained independetly with the visual features extracted from the VGG model. \n",
    "\n",
    "**Exercise 2:** Implement this simple neural network with a 256 hidden neurons with a ReLU activation, and a dropout factor of 0.5 for both sets of parameters (input > hidden, hidden > output)."
   ]
  },
  {
   "cell_type": "code",
   "execution_count": null,
   "metadata": {
    "id": "PkpxGFC8EO5t"
   },
   "outputs": [],
   "source": [
    "# TODO\n",
    "feature_classifier = nn.Sequential(\n",
    "    nn.Dropout(0.5),\n",
    "    nn.Linear(4*4*512, 256), \n",
    "    nn.ReLU(),\n",
    "    nn.Dropout(0.5),\n",
    "    nn.Linear(256, 1),\n",
    "    nn.Sigmoid()\n",
    ")\n",
    "\n",
    "feature_classifier.to(device)"
   ]
  },
  {
   "cell_type": "code",
   "execution_count": null,
   "metadata": {
    "id": "u3rfI0d3EO5u"
   },
   "outputs": [],
   "source": [
    "optimizer = optim.Adam(feature_classifier.parameters(), lr=0.001)\n",
    "loss_fn = nn.BCELoss()"
   ]
  },
  {
   "cell_type": "code",
   "execution_count": null,
   "metadata": {
    "id": "KIwVETFzEO5u"
   },
   "outputs": [],
   "source": [
    "from torch.utils.data import TensorDataset\n",
    "\n",
    "batch_size = 64\n",
    "train_features_dataset = TensorDataset(torch.tensor(train_features), torch.tensor(train_labels))\n",
    "train_features_loader = DataLoader(train_features_dataset, batch_size=batch_size, shuffle=True)\n",
    "\n",
    "val_features_dataset = TensorDataset(torch.tensor(validation_features), torch.tensor(validation_labels))\n",
    "val_features_loader = DataLoader(val_features_dataset, batch_size=batch_size, shuffle=False)\n"
   ]
  },
  {
   "cell_type": "code",
   "execution_count": null,
   "metadata": {
    "id": "MkcWJ8iXEO5u"
   },
   "outputs": [],
   "source": [
    "epochs = 10\n",
    "train_accuracies, train_losses, val_accuracies, val_losses = train_model(feature_classifier, optimizer, loss_fn, train_features_loader, val_features_loader, epochs)\n"
   ]
  },
  {
   "cell_type": "markdown",
   "metadata": {
    "id": "wOhod1-BeO2k"
   },
   "source": [
    "Training is very fast, since we only have to deal with two Dense layers -- an epoch takes less than one second even on CPU.\n",
    "\n",
    "Let's take a look at the loss and accuracy curves during training:\n"
   ]
  },
  {
   "cell_type": "code",
   "execution_count": null,
   "metadata": {
    "id": "jqr-ckglEO5v"
   },
   "outputs": [],
   "source": [
    "epochs = range(len(train_accuracies))\n",
    "\n",
    "plt.plot(epochs, train_accuracies, 'b', label='Training acc')\n",
    "plt.plot(epochs, val_accuracies, 'r', label='Validation acc')\n",
    "plt.title('Training and validation accuracy')\n",
    "plt.legend()\n",
    "\n",
    "plt.figure()\n",
    "\n",
    "plt.plot(epochs, train_losses, 'b', label='Training loss')\n",
    "plt.plot(epochs, val_losses, 'r', label='Validation loss')\n",
    "plt.title('Training and validation loss')\n",
    "plt.legend()\n",
    "\n",
    "plt.show()"
   ]
  },
  {
   "cell_type": "markdown",
   "metadata": {
    "id": "VmLl33Y3gB4Y"
   },
   "source": [
    "\n",
    "\n",
    "We reach a validation accuracy of about 96%, much better than what we could achieve in the previous section with our small model trained from scratch. However, our plots also indicate that we are overfitting almost from the start -- despite using dropout with a fairly large rate. This is because this technique does not leverage data augmentation, which is essential to preventing overfitting with small image datasets.\n",
    "\n"
   ]
  },
  {
   "cell_type": "markdown",
   "metadata": {
    "id": "Z7m850N1iGYN"
   },
   "source": [
    "# 3. Fine-tuning\n",
    "\n",
    "Another widely used technique for model reuse, complementary to feature extraction, is fine-tuning. Fine-tuning consists in unfreezing a few of the top layers of a frozen model base used for feature extraction, and jointly training both the newly added part of the model (in our case, the fully-connected classifier) and these top layers. This is called \"fine-tuning\" because it slightly adjusts the more abstract representations of the model being reused, in order to make them more relevant for the problem at hand.\n",
    "\n",
    "![finetuning](https://camo.githubusercontent.com/28a6cb7048317aba34f39cb02f15520708189008/68747470733a2f2f73332e616d617a6f6e6177732e636f6d2f626f6f6b2e6b657261732e696f2f696d672f6368352f76676731365f66696e655f74756e696e672e706e67)"
   ]
  },
  {
   "cell_type": "markdown",
   "metadata": {
    "id": "tQYNSVvHihVS"
   },
   "source": [
    "We have stated before that it was necessary to freeze the convolution base of VGG16 in order to be able to train a randomly initialized classifier on top. For the same reason, it is only possible to fine-tune the top layers of the convolutional base once the classifier on top has already been trained. If the classified wasn't already trained, then the error signal propagating through the network during training would be too large, and the representations previously learned by the layers being fine-tuned would be destroyed. Thus the steps for fine-tuning a network are as follow:\n",
    "\n",
    "\n",
    "1.   Add your custom network on top of an already trained base network.\n",
    "2.   Freeze the base network.\n",
    "3.   Train the part you added.\n",
    "4.   Unfreeze some layers in the base network.\n",
    "5.   Jointly train both these layers and the part you added.\n",
    "\n",
    "We have already completed the first 3 steps when doing feature extraction. Let's proceed with the 4th step.\n",
    "\n",
    "As a reminder, this is what our convolutional base looks like:\n"
   ]
  },
  {
   "cell_type": "code",
   "execution_count": null,
   "metadata": {
    "id": "leL_e2xeEO5w"
   },
   "outputs": [],
   "source": [
    "pretrained_model = vgg16(pretrained=True)\n",
    "pretrained_model.to(device)\n",
    "feature_extractor = pretrained_model.features\n",
    "feature_extractor"
   ]
  },
  {
   "cell_type": "code",
   "execution_count": null,
   "metadata": {
    "id": "by6J8lWSEO5w"
   },
   "outputs": [],
   "source": [
    "for layer in feature_extractor[:24]:  # Freeze layers 0 to 23\n",
    "    for param in layer.parameters():\n",
    "        param.requires_grad = False\n",
    "\n",
    "for layer in feature_extractor[24:]:  # Train layers 24 to 30\n",
    "    for param in layer.parameters():\n",
    "        param.requires_grad = True"
   ]
  },
  {
   "cell_type": "markdown",
   "metadata": {
    "id": "OeRNge_VjgnY"
   },
   "source": [
    "We will fine-tune the last 3 convolutional layers.\n",
    "\n",
    "Why not fine-tune more layers? Why not fine-tune the entire convolutional base? We could. However, we need to consider that:\n",
    "\n",
    "1.   Earlier layers in the convolutional base encode more generic, reusable features, while layers higher up encode more specialized features. It is more useful to fine-tune the more specialized features, as these are the ones that need to be repurposed on our new problem. There would be fast-decreasing returns in fine-tuning lower layers.\n",
    "2.   The more parameters we are training, the more we are at risk of overfitting. The convolutional base has 15M parameters, so it would be risky to attempt to train it on our small dataset.\n",
    "\n",
    "Thus, in our situation, it is a good strategy to only fine-tune the top 2 to 3 layers in the convolutional base.\n",
    "\n",
    "Let's set this up, starting from where we left off in the previous example:\n"
   ]
  },
  {
   "cell_type": "markdown",
   "metadata": {
    "id": "onAdiWY4k387"
   },
   "source": [
    "**Exercise 3:** Create a model with the `feature_classifier` of top of the `feature_extrator`. Note that you will need to flatten the features. "
   ]
  },
  {
   "cell_type": "code",
   "execution_count": null,
   "metadata": {
    "id": "DFqEN6HhEO5x"
   },
   "outputs": [],
   "source": [
    "class Model(nn.Module):\n",
    "  def __init__(self, feature_extractor, feature_classifier):\n",
    "    super().__init__()\n",
    "    self.feature_extractor = feature_extractor\n",
    "    self.feature_classifier = feature_classifier\n",
    "    self.flatten = nn.Flatten()\n",
    "\n",
    "  def forward(self, x):\n",
    "    x = self.feature_extractor(x)\n",
    "    x = self.flatten(x)\n",
    "    x = self.feature_classifier(x)\n",
    "\n",
    "  \n",
    "\n",
    "\n",
    "# TODO\n",
    "model = nn.Sequential(\n",
    "    feature_extractor,\n",
    "    nn.Flatten(),\n",
    "    feature_classifier,\n",
    ")\n",
    "\n",
    "model2 = Model(feature_extractor, feature_classifier)\n",
    "\n",
    "\n",
    "#model.to(device)\n",
    "model2.to(device)"
   ]
  },
  {
   "cell_type": "markdown",
   "metadata": {
    "id": "s4hU2suDkNsR"
   },
   "source": [
    "Now we can start fine-tuning our network. We will do this with the Adam optimizer, using a lower learning rate. The reason for using a low learning rate is that we want to limit the magnitude of the modifications we make to the representations of the 3 layers that we are fine-tuning. Updates that are too large may harm these representations.\n",
    "\n",
    "Now let's proceed with fine-tuning:\n"
   ]
  },
  {
   "cell_type": "markdown",
   "metadata": {
    "id": "cR5MccYQmeKS"
   },
   "source": [
    "In this case, we can do data augmentation, with the same configuration we used in our previous example:"
   ]
  },
  {
   "cell_type": "code",
   "execution_count": null,
   "metadata": {
    "id": "ZPAo5jNNEO5x"
   },
   "outputs": [],
   "source": [
    "train_transform = transforms.Compose([transforms.RandomHorizontalFlip(), transforms.RandomRotation(10), transforms.RandomResizedCrop(150), transforms.ToTensor(), transforms.Normalize(mean=[0.485, 0.456, 0.406], std=[0.229, 0.224, 0.225])])  # We have to add ImageNet normalization\n",
    "val_transform = transforms.Compose([transforms.Resize(150), transforms.CenterCrop(150), transforms.ToTensor(), transforms.Normalize(mean=[0.485, 0.456, 0.406], std=[0.229, 0.224, 0.225])])\n",
    "\n",
    "batch_size = 64\n",
    "augmented_dataset = ImageFolder(train_dir, transform=train_transform)\n",
    "augmented_loader = DataLoader(augmented_dataset, batch_size=batch_size, shuffle=True)\n",
    "val_dataset = ImageFolder(validation_dir, transform=val_transform)\n",
    "val_loader = DataLoader(val_dataset, batch_size=batch_size, shuffle=False)"
   ]
  },
  {
   "cell_type": "code",
   "execution_count": null,
   "metadata": {
    "id": "J4Ajr4sdEO5x"
   },
   "outputs": [],
   "source": [
    "optimizer = optim.Adam(model.parameters(), lr=1e-4)\n",
    "loss_fn = nn.BCELoss()"
   ]
  },
  {
   "cell_type": "code",
   "execution_count": null,
   "metadata": {
    "id": "1xImhkbPEO5x"
   },
   "outputs": [],
   "source": [
    "epochs = 60\n",
    "train_accuracies, train_losses, val_accuracies, val_losses = train_model(model, optimizer, loss_fn, augmented_loader, val_loader, epochs)\n"
   ]
  },
  {
   "cell_type": "markdown",
   "metadata": {
    "id": "r0gEUh5HoG2T"
   },
   "source": [
    "And finally plot the curves: "
   ]
  },
  {
   "cell_type": "code",
   "execution_count": null,
   "metadata": {
    "id": "twnBpPOMEO5y"
   },
   "outputs": [],
   "source": [
    "epochs = range(len(train_accuracies))\n",
    "\n",
    "plt.plot(epochs, train_accuracies, 'b', label='Training acc')\n",
    "plt.plot(epochs, val_accuracies, 'r', label='Validation acc')\n",
    "plt.title('Training and validation accuracy')\n",
    "plt.legend()\n",
    "\n",
    "plt.figure()\n",
    "\n",
    "plt.plot(epochs, train_losses, 'b', label='Training loss')\n",
    "plt.plot(epochs, val_losses, 'r', label='Validation loss')\n",
    "plt.title('Training and validation loss')\n",
    "plt.legend()\n",
    "\n",
    "plt.show()"
   ]
  },
  {
   "cell_type": "markdown",
   "metadata": {
    "id": "VTk9U7-9dYe8"
   },
   "source": [
    "Here we get a validation accuracy of 98%. In the original Kaggle competition around this dataset, this would have been one of the top results. However, using modern deep learning techniques, we managed to reach this result using only a very small fraction of the training data available (only about 2% of the data). There is a huge difference between being able to train on 20,000 samples compared to 400 samples!\n",
    "\n",
    "# Take-aways: using convnets with small datasets\n",
    "\n",
    "Here's what you should take away from these exercises:\n",
    "\n",
    "\n",
    "*   Convnets are the best type of machine learning models for computer vision tasks. It is possible to train one from scratch even on a very small dataset, with decent results.\n",
    "*   On a small dataset, overfitting will be the main issue. Data augmentation is a powerful way to fight overfitting when working with image data.\n",
    "*    It is easy to reuse an existing convnet on a new dataset, via feature extraction. This is a very valuable technique for working with small image datasets.\n",
    "*   As a complement to feature extraction, one may use fine-tuning, which adapts to a new problem some of the representations previously learned by an existing model. This pushes performance a bit further.\n",
    "\n",
    "Now you have a solid set of tools for dealing with image classification problems, in particular with small datasets."
   ]
  }
 ],
 "metadata": {
  "accelerator": "GPU",
  "colab": {
   "collapsed_sections": [
    "_eVlyjpFczgx"
   ],
   "name": "Copy of lab_transfer_learning_todo.ipynb",
   "provenance": []
  },
  "kernelspec": {
   "display_name": "Python 3 (ipykernel)",
   "language": "python",
   "name": "python3"
  },
  "language_info": {
   "codemirror_mode": {
    "name": "ipython",
    "version": 3
   },
   "file_extension": ".py",
   "mimetype": "text/x-python",
   "name": "python",
   "nbconvert_exporter": "python",
   "pygments_lexer": "ipython3",
   "version": "3.9.7"
  }
 },
 "nbformat": 4,
 "nbformat_minor": 1
}
